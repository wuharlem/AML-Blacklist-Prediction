{
 "cells": [
  {
   "cell_type": "code",
   "execution_count": 1,
   "metadata": {},
   "outputs": [],
   "source": [
    "## tool\n",
    "import pickle\n",
    "import tqdm\n",
    "import numpy as np\n",
    "import pandas as pd\n",
    "import os\n",
    "import time\n",
    "import re\n",
    "import textwrap\n",
    "import matplotlib.pyplot as plt\n",
    "\n",
    "## plot\n",
    "import matplotlib.pyplot as plt\n",
    "import seaborn as sns\n",
    "\n",
    "from seqeval.metrics import f1_score, accuracy_score\n",
    "\n",
    "## Bert\n",
    "import transformers\n",
    "from transformers import BertForTokenClassification, AdamW, get_linear_schedule_with_warmup\n",
    "from transformers import BertTokenizer, BertConfig\n",
    "\n",
    "## module\n",
    "from module.ner_trainer import NRE_Trainer\n",
    "\n",
    "## torch\n",
    "import torch\n",
    "from torch.utils.data import DataLoader, random_split, Dataset"
   ]
  },
  {
   "cell_type": "code",
   "execution_count": 2,
   "metadata": {},
   "outputs": [
    {
     "data": {
      "text/plain": [
       "'GeForce RTX 2080 Ti'"
      ]
     },
     "execution_count": 2,
     "metadata": {},
     "output_type": "execute_result"
    }
   ],
   "source": [
    "torch.cuda.get_device_name(0)"
   ]
  },
  {
   "cell_type": "markdown",
   "metadata": {},
   "source": [
    "## Preprocess"
   ]
  },
  {
   "cell_type": "markdown",
   "metadata": {},
   "source": [
    "### Helper Function"
   ]
  },
  {
   "cell_type": "code",
   "execution_count": 3,
   "metadata": {},
   "outputs": [],
   "source": [
    "def preprocess(text):\n",
    "    tokenized_sentence = tokenizer_chinese.encode(text)\n",
    "    return tokenized_sentence"
   ]
  },
  {
   "cell_type": "code",
   "execution_count": 4,
   "metadata": {},
   "outputs": [],
   "source": [
    "def split_sentence(text):\n",
    "    sentences = []\n",
    "    if len(text) < 500:\n",
    "        sentences.append(text)\n",
    "        \n",
    "    elif len(text) > 500 and len(text) <= 1000:\n",
    "        sentences.append(text[:500])\n",
    "        sentences.append(text[-500:])\n",
    "        \n",
    "    elif len(text) > 1000 and len(text) <= 1500:\n",
    "        mid = int(len(text)/2)\n",
    "        sentences.append(text[:500])\n",
    "        sentences.append(text[mid-250:mid+250])\n",
    "        sentences.append(text[-500:])\n",
    "        \n",
    "    elif len(text) > 1500 and len(text) <= 2000:\n",
    "        point_1 = int(len(text)*0.25)\n",
    "        point_2 = int(len(text)*0.75)\n",
    "        sentences.append(text[:500])\n",
    "        sentences.append(text[point_1-250:point_1+250])\n",
    "        sentences.append(text[point_2-250:point_2+250])\n",
    "        sentences.append(text[-500:])\n",
    "        \n",
    "    else:\n",
    "        mid = int(len(text)/2)\n",
    "        point_1 = int(len(text)*0.25)\n",
    "        point_2 = int(len(text)*0.75)\n",
    "        sentences.append(text[:500])\n",
    "        sentences.append(text[point_1-250:point_1+250])\n",
    "        sentences.append(text[mid-250:mid+250])\n",
    "        sentences.append(text[point_2-250:point_2+250])\n",
    "        sentences.append(text[-500:])\n",
    "        \n",
    "    return sentences"
   ]
  },
  {
   "cell_type": "code",
   "execution_count": 5,
   "metadata": {},
   "outputs": [],
   "source": [
    "def pad_to_len(seqs, to_len, padding=0):\n",
    "    paddeds = []\n",
    "    for seq in seqs:\n",
    "        paddeds.append(\n",
    "            seq[:to_len] + [padding] * max(0, to_len - len(seq))\n",
    "        )\n",
    "    return paddeds"
   ]
  },
  {
   "cell_type": "code",
   "execution_count": 6,
   "metadata": {},
   "outputs": [],
   "source": [
    "class Bert_dataset(Dataset):\n",
    "    def __init__(self, data):\n",
    "        self.data = data\n",
    "    def __len__(self):\n",
    "        return len(self.data)\n",
    "    def __getitem__(self, index):\n",
    "        sample = self.data[index]\n",
    "        instance = {\n",
    "            'id': sample['ID'],\n",
    "            'words': sample['token_id'],\n",
    "            'tag' : sample['label'],\n",
    "            'segment': [0]*len(sample['token_id']),\n",
    "#             'mask': [1]*(len(sample['token_id']))\n",
    "            'mask': sample['mask']\n",
    "        }\n",
    "        return instance\n",
    "    \n",
    "    def collate_fn(self, samples):\n",
    "        batch = {}\n",
    "        for key in ['id']:\n",
    "            if any(key not in sample for sample in samples):\n",
    "                continue\n",
    "            batch[key] = [sample[key] for sample in samples]\n",
    "            \n",
    "        for key in ['words', 'tag', 'segment', 'mask']:\n",
    "            if any(key not in sample for sample in samples):\n",
    "                continue\n",
    "            to_len = max([len(sample[key]) for sample in samples])\n",
    "            if key =='tag':\n",
    "                pad_logit = 2\n",
    "            else:\n",
    "                pad_logit = 0\n",
    "            padded = pad_to_len(\n",
    "                [sample[key] for sample in samples], 512, pad_logit\n",
    "            )\n",
    "            batch[key] = torch.tensor(padded).long()\n",
    "\n",
    "        return batch"
   ]
  },
  {
   "cell_type": "code",
   "execution_count": 7,
   "metadata": {},
   "outputs": [],
   "source": [
    "def str2list(s):    \n",
    "    if s == '[]':\n",
    "        return []\n",
    "    return [str(i.replace(' ', '')[1:-1]) for i in s[1:-1].split(',')]"
   ]
  },
  {
   "cell_type": "code",
   "execution_count": 8,
   "metadata": {},
   "outputs": [],
   "source": [
    "def get_index(name_index, sentence_index):\n",
    "    \n",
    "    if name_index == []:\n",
    "        return []\n",
    "    \n",
    "    arr = []\n",
    "    j = 0\n",
    "    l_name = len(name_index)\n",
    "    l_sentence = len(sentence_index)\n",
    "    \n",
    "    while j < l_sentence:\n",
    "        if name_index[0] == sentence_index[j]:\n",
    "            \n",
    "            flag = 1\n",
    "            record = j\n",
    "            \n",
    "            for i in range(l_name):\n",
    "                if name_index[i] != sentence_index[j]:\n",
    "                    flag = 0\n",
    "                    break\n",
    "                j+=1\n",
    "                \n",
    "            if flag:\n",
    "                j-=1\n",
    "                arr+=[i for i in range(record, record+l_name)]\n",
    "        j+=1\n",
    "    \n",
    "    return arr"
   ]
  },
  {
   "cell_type": "markdown",
   "metadata": {},
   "source": [
    "#### Load Data"
   ]
  },
  {
   "cell_type": "code",
   "execution_count": 9,
   "metadata": {},
   "outputs": [],
   "source": [
    "train_csv = pd.read_csv('data/train.csv')\n",
    "train_df  = train_csv.drop(['hyperlink', 'content', 'domain', 'name'], axis=1)\n",
    "\n",
    "# load pretrained bert model \n",
    "tokenizer_chinese = BertTokenizer.from_pretrained(\"bert-base-chinese\", do_lower_case=False)"
   ]
  },
  {
   "cell_type": "markdown",
   "metadata": {},
   "source": [
    "### Preprocess"
   ]
  },
  {
   "cell_type": "code",
   "execution_count": 10,
   "metadata": {},
   "outputs": [
    {
     "name": "stdout",
     "output_type": "stream",
     "text": [
      "CPU times: user 14.7 s, sys: 46.4 ms, total: 14.8 s\n",
      "Wall time: 14.8 s\n"
     ]
    }
   ],
   "source": [
    "%%time\n",
    "train_df['length']    = train_csv['article'].apply(lambda x: len(x))\n",
    "train_df['sentences'] = train_csv['article'].apply(lambda x: split_sentence(x))\n",
    "train_df['token_ids'] = train_df['sentences'].apply(lambda x: [preprocess(sentence) for sentence in x])\n",
    "train_df['blacklist'] = train_csv['name'].apply(lambda x: str2list(x))\n",
    "train_df['names']     = pd.read_csv('data/name.csv')['0'].apply(lambda x: str2list(x))"
   ]
  },
  {
   "cell_type": "code",
   "execution_count": 11,
   "metadata": {},
   "outputs": [],
   "source": [
    "## delete some useless data\n",
    "train_df = train_df[train_df.article != '文章已被刪除 404 or 例外']\n",
    "train_df = train_df[(train_df['length']) <= 2551]\n",
    "train_df = train_df[(train_df['length']) >= 75]"
   ]
  },
  {
   "cell_type": "code",
   "execution_count": 12,
   "metadata": {},
   "outputs": [
    {
     "data": {
      "text/plain": [
       "4590"
      ]
     },
     "execution_count": 12,
     "metadata": {},
     "output_type": "execute_result"
    }
   ],
   "source": [
    "train_df = train_df.reset_index(drop=True)\n",
    "len(train_df)"
   ]
  },
  {
   "cell_type": "code",
   "execution_count": 13,
   "metadata": {},
   "outputs": [
    {
     "name": "stderr",
     "output_type": "stream",
     "text": [
      "100%|██████████| 4590/4590 [00:03<00:00, 1165.29it/s]\n"
     ]
    }
   ],
   "source": [
    "answer_json_type = {}\n",
    "data_collection  = []\n",
    "\n",
    "for data in tqdm.tqdm(train_df.values):\n",
    "    news_ID, article, length, sentences, token_ids, blacklist, names = data\n",
    "    \n",
    "    for token_id, sentence in zip(token_ids, sentences):\n",
    "        sample = {}\n",
    "        sample['ID'] = news_ID\n",
    "        sample['original_article'] = article\n",
    "        sample['length'] = length\n",
    "        sample['sentence'] = sentence\n",
    "        sample['token_id'] = token_id\n",
    "        sample['blacklist'] = blacklist\n",
    "        sample['names'] = names \n",
    "        \n",
    "        ## get label\n",
    "        one_hot = torch.zeros(len(token_id)).tolist()\n",
    "        one_hot2 = torch.zeros(len(token_id)).tolist()\n",
    "        \n",
    "        position, position2 = [], []\n",
    "        \n",
    "        for black_name in blacklist:\n",
    "            black_name_ids = tokenizer_chinese.encode(black_name)[1:-1]\n",
    "            position+=get_index(black_name_ids, token_id)\n",
    "            \n",
    "        for i in position:\n",
    "            one_hot[i] = 1\n",
    "            \n",
    "        for name in names:\n",
    "            name_ids = tokenizer_chinese.encode(name)[1:-1]\n",
    "            position2+=get_index(name_ids, token_id)\n",
    "            \n",
    "        for i in position2:\n",
    "            one_hot2[i] = 1\n",
    "        \n",
    "        sample['label'] = one_hot\n",
    "        sample['mask']  = one_hot2\n",
    "        \n",
    "        data_collection.append(sample)\n",
    "        \n",
    "    if news_ID in answer_json_type:\n",
    "        pass\n",
    "    else:\n",
    "        answer_json_type[news_ID] = {'names': names, 'blacklist': blacklist}"
   ]
  },
  {
   "cell_type": "code",
   "execution_count": 14,
   "metadata": {},
   "outputs": [],
   "source": [
    "torch.manual_seed(0)\n",
    "\n",
    "bert_dataset = Bert_dataset(data_collection)\n",
    "\n",
    "train_dataset, test_dataset = random_split(bert_dataset,\n",
    "                                           [int(len(bert_dataset)*0.8), \n",
    "                                            len(bert_dataset)-int(len(bert_dataset)*0.8)])\n",
    "\n",
    "valid_dataset, test_dataset = random_split(test_dataset, \n",
    "                                           [int(len(test_dataset)*0.5), \n",
    "                                            len(test_dataset)-int(len(test_dataset)*0.5)])\n",
    "\n",
    "## Hyperparameter\n",
    "n_train = len(train_dataset)\n",
    "n_valid = len(valid_dataset)\n",
    "n_test  = len(test_dataset)\n",
    "BATCH_SIZE = 8"
   ]
  },
  {
   "cell_type": "code",
   "execution_count": 15,
   "metadata": {},
   "outputs": [
    {
     "name": "stdout",
     "output_type": "stream",
     "text": [
      "242 3672\n"
     ]
    }
   ],
   "source": [
    "print(len([1 for i in train_dataset if 1 in i['tag']]), n_train)"
   ]
  },
  {
   "cell_type": "code",
   "execution_count": 16,
   "metadata": {},
   "outputs": [
    {
     "name": "stdout",
     "output_type": "stream",
     "text": [
      "27 459\n"
     ]
    }
   ],
   "source": [
    "print(len([1 for i in valid_dataset if 1 in i['tag']]), n_valid)"
   ]
  },
  {
   "cell_type": "code",
   "execution_count": 17,
   "metadata": {},
   "outputs": [
    {
     "name": "stdout",
     "output_type": "stream",
     "text": [
      "24 459\n"
     ]
    }
   ],
   "source": [
    "print(len([1 for i in test_dataset if 1 in i['tag']]), n_test)"
   ]
  },
  {
   "cell_type": "code",
   "execution_count": 18,
   "metadata": {},
   "outputs": [],
   "source": [
    "train_loader = DataLoader(\n",
    "    dataset = train_dataset,\n",
    "    batch_size = BATCH_SIZE,\n",
    "    shuffle = True,\n",
    "    collate_fn = lambda x: Bert_dataset.collate_fn(train_dataset, x)\n",
    ")\n",
    "\n",
    "valid_loader = DataLoader(\n",
    "    dataset = valid_dataset,\n",
    "    batch_size = BATCH_SIZE,\n",
    "    collate_fn = lambda x: Bert_dataset.collate_fn(valid_dataset, x)\n",
    ")\n",
    "\n",
    "test_loader = DataLoader(\n",
    "    dataset = test_dataset,\n",
    "    batch_size = BATCH_SIZE,\n",
    "    collate_fn = lambda x: Bert_dataset.collate_fn(test_dataset, x)\n",
    ")"
   ]
  },
  {
   "cell_type": "markdown",
   "metadata": {},
   "source": [
    "## Training"
   ]
  },
  {
   "cell_type": "code",
   "execution_count": 19,
   "metadata": {},
   "outputs": [
    {
     "name": "stderr",
     "output_type": "stream",
     "text": [
      "Some weights of the model checkpoint at bert-base-chinese were not used when initializing BertForTokenClassification: ['cls.predictions.bias', 'cls.predictions.transform.dense.weight', 'cls.predictions.transform.dense.bias', 'cls.predictions.decoder.weight', 'cls.seq_relationship.weight', 'cls.seq_relationship.bias', 'cls.predictions.transform.LayerNorm.weight', 'cls.predictions.transform.LayerNorm.bias']\n",
      "- This IS expected if you are initializing BertForTokenClassification from the checkpoint of a model trained on another task or with another architecture (e.g. initializing a BertForSequenceClassification model from a BertForPretraining model).\n",
      "- This IS NOT expected if you are initializing BertForTokenClassification from the checkpoint of a model that you expect to be exactly identical (initializing a BertForSequenceClassification model from a BertForSequenceClassification model).\n",
      "Some weights of BertForTokenClassification were not initialized from the model checkpoint at bert-base-chinese and are newly initialized: ['classifier.weight', 'classifier.bias']\n",
      "You should probably TRAIN this model on a down-stream task to be able to use it for predictions and inference.\n"
     ]
    }
   ],
   "source": [
    "model = BertForTokenClassification.from_pretrained(\"bert-base-chinese\",\n",
    "    num_labels = 3,\n",
    "    output_attentions = False,\n",
    "    output_hidden_states = False\n",
    ")"
   ]
  },
  {
   "cell_type": "code",
   "execution_count": 20,
   "metadata": {},
   "outputs": [
    {
     "name": "stdout",
     "output_type": "stream",
     "text": [
      "device:cuda\n"
     ]
    }
   ],
   "source": [
    "trainer = NRE_Trainer(model, train_loader, valid_loader)\n",
    "trainer.tag2idx = { 'O': 0, 'blacklist': 1, 'PAD': 2}\n",
    "trainer.tag_values = ['O', 'blacklist', 'PAD']"
   ]
  },
  {
   "cell_type": "code",
   "execution_count": 21,
   "metadata": {},
   "outputs": [
    {
     "data": {
      "text/plain": [
       "<All keys matched successfully>"
      ]
     },
     "execution_count": 21,
     "metadata": {},
     "output_type": "execute_result"
    }
   ],
   "source": [
    "trainer.model.load_state_dict(torch.load('params/best-model.pth'))"
   ]
  },
  {
   "cell_type": "code",
   "execution_count": 22,
   "metadata": {},
   "outputs": [
    {
     "name": "stderr",
     "output_type": "stream",
     "text": [
      "100%|██████████| 58/58 [00:05<00:00, 10.28it/s]"
     ]
    },
    {
     "name": "stdout",
     "output_type": "stream",
     "text": [
      "device: cuda classification acc:  0.9603 validation loss: 0.5652\n"
     ]
    },
    {
     "name": "stderr",
     "output_type": "stream",
     "text": [
      "\n"
     ]
    }
   ],
   "source": [
    "acc, total_loss = trainer.evaluation(test=False)\n",
    "print(f\"device: {trainer.device} classification acc: {acc: .4f} validation loss: {total_loss:.4f}\")"
   ]
  },
  {
   "cell_type": "code",
   "execution_count": null,
   "metadata": {},
   "outputs": [
    {
     "name": "stderr",
     "output_type": "stream",
     "text": [
      "100%|██████████| 459/459 [02:12<00:00,  3.47it/s]\n",
      "100%|██████████| 58/58 [00:06<00:00,  9.45it/s]\n"
     ]
    },
    {
     "name": "stdout",
     "output_type": "stream",
     "text": [
      " time: 2m 20s | epoch:0 train loss: 0.3837 | validation loss: 0.3709 acc: 0.9974"
     ]
    },
    {
     "name": "stderr",
     "output_type": "stream",
     "text": [
      "100%|██████████| 459/459 [02:22<00:00,  3.23it/s]\n",
      "100%|██████████| 58/58 [00:05<00:00, 10.62it/s]\n"
     ]
    },
    {
     "name": "stdout",
     "output_type": "stream",
     "text": [
      " time: 4m 49s | epoch:1 train loss: 0.3444 | validation loss: 0.3560 acc: 0.9974"
     ]
    },
    {
     "name": "stderr",
     "output_type": "stream",
     "text": [
      "100%|██████████| 459/459 [02:24<00:00,  3.19it/s]\n",
      "100%|██████████| 58/58 [00:05<00:00,  9.99it/s]\n"
     ]
    },
    {
     "name": "stdout",
     "output_type": "stream",
     "text": [
      " time: 7m 20s | epoch:2 train loss: 0.3479 | validation loss: 0.3541 acc: 0.9974"
     ]
    },
    {
     "name": "stderr",
     "output_type": "stream",
     "text": [
      "100%|██████████| 459/459 [02:16<00:00,  3.36it/s]\n",
      "100%|██████████| 58/58 [00:05<00:00, 10.65it/s]\n"
     ]
    },
    {
     "name": "stdout",
     "output_type": "stream",
     "text": [
      " time: 9m 44s | epoch:3 train loss: 0.3420 | validation loss: 0.3850 acc: 0.9974 -- 1"
     ]
    },
    {
     "name": "stderr",
     "output_type": "stream",
     "text": [
      "100%|██████████| 459/459 [02:09<00:00,  3.53it/s]\n",
      "100%|██████████| 58/58 [00:05<00:00, 10.67it/s]\n"
     ]
    },
    {
     "name": "stdout",
     "output_type": "stream",
     "text": [
      " time: 12m 0s | epoch:4 train loss: 0.3655 | validation loss: 0.3300 acc: 0.9974"
     ]
    },
    {
     "name": "stderr",
     "output_type": "stream",
     "text": [
      "100%|██████████| 459/459 [02:09<00:00,  3.53it/s]\n",
      "100%|██████████| 58/58 [00:05<00:00, 10.67it/s]\n"
     ]
    },
    {
     "name": "stdout",
     "output_type": "stream",
     "text": [
      " time: 14m 17s | epoch:5 train loss: 0.3475 | validation loss: 0.3748 acc: 0.9974 -- 1"
     ]
    },
    {
     "name": "stderr",
     "output_type": "stream",
     "text": [
      "100%|██████████| 459/459 [02:09<00:00,  3.53it/s]\n",
      "100%|██████████| 58/58 [00:05<00:00, 10.66it/s]\n"
     ]
    },
    {
     "name": "stdout",
     "output_type": "stream",
     "text": [
      " time: 16m 34s | epoch:6 train loss: 0.3536 | validation loss: 0.3171 acc: 0.9974"
     ]
    },
    {
     "name": "stderr",
     "output_type": "stream",
     "text": [
      "100%|██████████| 459/459 [02:09<00:00,  3.53it/s]\n",
      "100%|██████████| 58/58 [00:05<00:00, 10.66it/s]\n"
     ]
    },
    {
     "name": "stdout",
     "output_type": "stream",
     "text": [
      " time: 18m 51s | epoch:7 train loss: 0.3545 | validation loss: 0.3201 acc: 0.9974 -- 1"
     ]
    },
    {
     "name": "stderr",
     "output_type": "stream",
     "text": [
      "100%|██████████| 459/459 [02:14<00:00,  3.40it/s]\n",
      "100%|██████████| 58/58 [00:06<00:00,  9.47it/s]\n"
     ]
    },
    {
     "name": "stdout",
     "output_type": "stream",
     "text": [
      " time: 21m 13s | epoch:8 train loss: 0.3528 | validation loss: 0.3480 acc: 0.9974 -- 2"
     ]
    },
    {
     "name": "stderr",
     "output_type": "stream",
     "text": [
      "100%|██████████| 459/459 [02:26<00:00,  3.14it/s]\n",
      "100%|██████████| 58/58 [00:06<00:00,  9.47it/s]\n"
     ]
    },
    {
     "name": "stdout",
     "output_type": "stream",
     "text": [
      " time: 23m 46s | epoch:9 train loss: 0.3615 | validation loss: 0.3254 acc: 0.9974 -- 3"
     ]
    },
    {
     "name": "stderr",
     "output_type": "stream",
     "text": [
      "100%|██████████| 459/459 [02:26<00:00,  3.14it/s]\n",
      "100%|██████████| 58/58 [00:06<00:00,  9.47it/s]\n"
     ]
    },
    {
     "name": "stdout",
     "output_type": "stream",
     "text": [
      " time: 26m 19s | epoch:10 train loss: 0.3557 | validation loss: 0.3282 acc: 0.9974 -- 4"
     ]
    },
    {
     "name": "stderr",
     "output_type": "stream",
     "text": [
      " 81%|████████▏ | 374/459 [01:59<00:27,  3.14it/s]"
     ]
    }
   ],
   "source": [
    "trainer.training_process(early_stopping = True, \n",
    "                         n_iter_no_change = 5, \n",
    "                         max_epoch = 50, \n",
    "                         save_params = True, \n",
    "                         verbose = True, \n",
    "                         learning_rate = 3e-5, \n",
    "                         save_paths='model-best-fine-tune.pth')"
   ]
  },
  {
   "cell_type": "code",
   "execution_count": null,
   "metadata": {},
   "outputs": [],
   "source": [
    "# trainer.model.load_state_dict(torch.load('model-best-fine-tune.pth'))"
   ]
  },
  {
   "cell_type": "markdown",
   "metadata": {},
   "source": [
    "## Predict"
   ]
  },
  {
   "cell_type": "code",
   "execution_count": 25,
   "metadata": {},
   "outputs": [
    {
     "name": "stderr",
     "output_type": "stream",
     "text": [
      "100%|██████████| 58/58 [00:05<00:00, 10.36it/s]\n"
     ]
    }
   ],
   "source": [
    "raw_answer = {}\n",
    "answer = {}\n",
    "\n",
    "with torch.no_grad():\n",
    "    for _, batch in enumerate(tqdm.tqdm(test_loader)):\n",
    "        b_input_token  = batch['words'].to(trainer.device)\n",
    "        output = model(b_input_token)\n",
    "        label_indices = np.argmax(output[0].to('cpu').numpy(), axis=2)\n",
    "        \n",
    "        for i, input_token in enumerate(b_input_token.to('cpu').numpy()):\n",
    "            \n",
    "            words  = tokenizer_chinese.convert_ids_to_tokens(input_token)\n",
    "            labels = label_indices[i]\n",
    "            ID     = batch['id'][i]\n",
    "                                \n",
    "            names = []\n",
    "            name_string = ''\n",
    "            \n",
    "            for word, label in zip(words, labels):\n",
    "                if label == 1:\n",
    "                    name_string += word\n",
    "                else:\n",
    "                    if name_string != '':\n",
    "                        names.append(name_string)\n",
    "                        name_string = ''\n",
    "            \n",
    "            if ID in answer:\n",
    "                arr = answer[ID]\n",
    "                arr+=names\n",
    "            else:\n",
    "                answer[ID] = names\n",
    "\n",
    "\n",
    "for key in answer:\n",
    "    answer[key] = list(set(answer[key]))"
   ]
  },
  {
   "cell_type": "code",
   "execution_count": 26,
   "metadata": {},
   "outputs": [],
   "source": [
    "def score(truth, predict):\n",
    "    if truth == [] and predict != []:\n",
    "        return 0\n",
    "    \n",
    "    if truth != [] and predict == []:\n",
    "        return 0\n",
    "    \n",
    "    if truth == [] and predict == []:\n",
    "        return 1\n",
    "    \n",
    "    recall = len([i for i in truth if i in predict])/len(truth)\n",
    "    precision = len([i for i in predict if i in truth])/len(predict)\n",
    "    \n",
    "    try:\n",
    "        return 2/((1/recall)+(1/precision))\n",
    "    except:\n",
    "        return 0"
   ]
  },
  {
   "cell_type": "code",
   "execution_count": 28,
   "metadata": {},
   "outputs": [
    {
     "name": "stdout",
     "output_type": "stream",
     "text": [
      "4858 Answer: [] 黑名單: [] Score: 1\n",
      "1177 Answer: [] 黑名單: [] Score: 1\n",
      "153 Answer: [] 黑名單: [] Score: 1\n",
      "1442 Answer: [] 黑名單: [] Score: 1\n",
      "2901 Answer: [] 黑名單: [] Score: 1\n",
      "3565 Answer: [] 黑名單: ['穆曉光'] Score: 0\n",
      "1134 Answer: [] 黑名單: [] Score: 1\n",
      "3964 Answer: [] 黑名單: [] Score: 1\n",
      "2671 Answer: [] 黑名單: [] Score: 1\n",
      "670 Answer: [] 黑名單: [] Score: 1\n",
      "1818 Answer: [] 黑名單: [] Score: 1\n",
      "4426 Answer: [] 黑名單: [] Score: 1\n",
      "4864 Answer: [] 黑名單: [] Score: 1\n",
      "4063 Answer: [] 黑名單: [] Score: 1\n",
      "4139 Answer: [] 黑名單: [] Score: 1\n",
      "1684 Answer: [] 黑名單: [] Score: 1\n",
      "1910 Answer: [] 黑名單: [] Score: 1\n",
      "4081 Answer: [] 黑名單: [] Score: 1\n",
      "1130 Answer: [] 黑名單: [] Score: 1\n",
      "2061 Answer: [] 黑名單: [] Score: 1\n",
      "1973 Answer: [] 黑名單: [] Score: 1\n",
      "4831 Answer: [] 黑名單: [] Score: 1\n",
      "2488 Answer: [] 黑名單: [] Score: 1\n",
      "1639 Answer: [] 黑名單: [] Score: 1\n",
      "4028 Answer: [] 黑名單: [] Score: 1\n",
      "1444 Answer: [] 黑名單: ['黃世陽', '黃顯雄'] Score: 0\n",
      "3744 Answer: [] 黑名單: [] Score: 1\n",
      "3499 Answer: [] 黑名單: [] Score: 1\n",
      "4150 Answer: [] 黑名單: [] Score: 1\n",
      "2651 Answer: [] 黑名單: ['李保承', '陳亮吟', '劉馨蔚', '林錫山'] Score: 0\n",
      "1676 Answer: [] 黑名單: [] Score: 1\n",
      "1754 Answer: [] 黑名單: [] Score: 1\n",
      "1064 Answer: [] 黑名單: ['陳孝仁'] Score: 0\n",
      "3014 Answer: [] 黑名單: [] Score: 1\n",
      "1405 Answer: [] 黑名單: [] Score: 1\n",
      "3851 Answer: [] 黑名單: [] Score: 1\n",
      "1526 Answer: [] 黑名單: [] Score: 1\n",
      "2587 Answer: [] 黑名單: [] Score: 1\n",
      "3733 Answer: [] 黑名單: [] Score: 1\n",
      "773 Answer: [] 黑名單: [] Score: 1\n",
      "4968 Answer: [] 黑名單: [] Score: 1\n",
      "1023 Answer: [] 黑名單: [] Score: 1\n",
      "1649 Answer: [] 黑名單: [] Score: 1\n",
      "1955 Answer: [] 黑名單: [] Score: 1\n",
      "1381 Answer: [] 黑名單: [] Score: 1\n",
      "2231 Answer: [] 黑名單: [] Score: 1\n",
      "1246 Answer: [] 黑名單: [] Score: 1\n",
      "896 Answer: [] 黑名單: [] Score: 1\n",
      "3994 Answer: [] 黑名單: ['吳坤錦'] Score: 0\n",
      "2108 Answer: [] 黑名單: [] Score: 1\n",
      "4537 Answer: [] 黑名單: [] Score: 1\n",
      "4042 Answer: [] 黑名單: [] Score: 1\n",
      "2571 Answer: [] 黑名單: [] Score: 1\n",
      "1052 Answer: [] 黑名單: [] Score: 1\n",
      "2533 Answer: [] 黑名單: [] Score: 1\n",
      "198 Answer: [] 黑名單: ['黃振榮', '陳武騰'] Score: 0\n",
      "4812 Answer: [] 黑名單: [] Score: 1\n",
      "667 Answer: [] 黑名單: [] Score: 1\n",
      "4267 Answer: [] 黑名單: [] Score: 1\n",
      "3708 Answer: [] 黑名單: [] Score: 1\n",
      "391 Answer: [] 黑名單: [] Score: 1\n",
      "4987 Answer: [] 黑名單: [] Score: 1\n",
      "1481 Answer: [] 黑名單: ['李哲銘'] Score: 0\n",
      "990 Answer: [] 黑名單: [] Score: 1\n",
      "4076 Answer: [] 黑名單: [] Score: 1\n",
      "2551 Answer: [] 黑名單: [] Score: 1\n",
      "3277 Answer: [] 黑名單: [] Score: 1\n",
      "2561 Answer: [] 黑名單: [] Score: 1\n",
      "3041 Answer: [] 黑名單: [] Score: 1\n",
      "3020 Answer: [] 黑名單: [] Score: 1\n",
      "2520 Answer: [] 黑名單: [] Score: 1\n",
      "4813 Answer: [] 黑名單: [] Score: 1\n",
      "1440 Answer: [] 黑名單: [] Score: 1\n",
      "1890 Answer: [] 黑名單: [] Score: 1\n",
      "845 Answer: [] 黑名單: [] Score: 1\n",
      "2137 Answer: [] 黑名單: [] Score: 1\n",
      "4515 Answer: [] 黑名單: [] Score: 1\n",
      "4005 Answer: [] 黑名單: [] Score: 1\n",
      "4797 Answer: [] 黑名單: [] Score: 1\n",
      "2908 Answer: [] 黑名單: ['洪玉鳳'] Score: 0\n",
      "4271 Answer: [] 黑名單: [] Score: 1\n",
      "2723 Answer: [] 黑名單: [] Score: 1\n",
      "1380 Answer: [] 黑名單: ['連千毅', '鄭又仁'] Score: 0\n",
      "3229 Answer: [] 黑名單: [] Score: 1\n",
      "3084 Answer: [] 黑名單: [] Score: 1\n",
      "2258 Answer: [] 黑名單: [] Score: 1\n",
      "4986 Answer: [] 黑名單: [] Score: 1\n",
      "4539 Answer: [] 黑名單: [] Score: 1\n",
      "3353 Answer: [] 黑名單: [] Score: 1\n",
      "3372 Answer: [] 黑名單: [] Score: 1\n",
      "778 Answer: [] 黑名單: [] Score: 1\n",
      "655 Answer: [] 黑名單: [] Score: 1\n",
      "2832 Answer: [] 黑名單: [] Score: 1\n",
      "373 Answer: [] 黑名單: [] Score: 1\n",
      "2449 Answer: [] 黑名單: ['焦名薇', '游麗珠', '徐正倫', '曾昭榮', '鄒官羽', '鄒春香'] Score: 0\n",
      "4585 Answer: [] 黑名單: [] Score: 1\n",
      "3784 Answer: [] 黑名單: [] Score: 1\n",
      "710 Answer: [] 黑名單: [] Score: 1\n",
      "435 Answer: [] 黑名單: [] Score: 1\n",
      "3576 Answer: [] 黑名單: [] Score: 1\n",
      "1347 Answer: [] 黑名單: [] Score: 1\n",
      "4064 Answer: [] 黑名單: ['葉清偉', '姜維池'] Score: 0\n",
      "4449 Answer: [] 黑名單: [] Score: 1\n",
      "2079 Answer: [] 黑名單: [] Score: 1\n",
      "295 Answer: [] 黑名單: [] Score: 1\n",
      "1988 Answer: [] 黑名單: [] Score: 1\n",
      "2062 Answer: [] 黑名單: [] Score: 1\n",
      "968 Answer: [] 黑名單: [] Score: 1\n",
      "3366 Answer: [] 黑名單: [] Score: 1\n",
      "1541 Answer: [] 黑名單: [] Score: 1\n",
      "3554 Answer: [] 黑名單: [] Score: 1\n",
      "4216 Answer: [] 黑名單: [] Score: 1\n",
      "187 Answer: [] 黑名單: [] Score: 1\n",
      "2562 Answer: [] 黑名單: [] Score: 1\n",
      "1597 Answer: [] 黑名單: [] Score: 1\n",
      "4611 Answer: [] 黑名單: [] Score: 1\n",
      "298 Answer: [] 黑名單: [] Score: 1\n",
      "4262 Answer: [] 黑名單: [] Score: 1\n",
      "3877 Answer: [] 黑名單: ['張子桀', '范峻誥'] Score: 0\n",
      "2855 Answer: [] 黑名單: [] Score: 1\n",
      "2346 Answer: [] 黑名單: [] Score: 1\n",
      "2937 Answer: [] 黑名單: [] Score: 1\n",
      "4138 Answer: [] 黑名單: [] Score: 1\n",
      "4878 Answer: [] 黑名單: [] Score: 1\n",
      "633 Answer: [] 黑名單: [] Score: 1\n",
      "2408 Answer: [] 黑名單: [] Score: 1\n",
      "787 Answer: [] 黑名單: [] Score: 1\n",
      "2456 Answer: [] 黑名單: [] Score: 1\n",
      "2856 Answer: [] 黑名單: [] Score: 1\n",
      "1317 Answer: [] 黑名單: ['黃春發', '賴粵興', '鄭達騰', '林健標', '何歡'] Score: 0\n",
      "3723 Answer: [] 黑名單: [] Score: 1\n",
      "614 Answer: [] 黑名單: [] Score: 1\n",
      "4959 Answer: [] 黑名單: [] Score: 1\n",
      "3555 Answer: [] 黑名單: ['林光華', '郭茂良', '林全明', '陳文君'] Score: 0\n",
      "3385 Answer: [] 黑名單: [] Score: 1\n",
      "1119 Answer: [] 黑名單: [] Score: 1\n",
      "3940 Answer: [] 黑名單: [] Score: 1\n",
      "4208 Answer: [] 黑名單: [] Score: 1\n",
      "2982 Answer: [] 黑名單: [] Score: 1\n",
      "2890 Answer: [] 黑名單: [] Score: 1\n",
      "1395 Answer: [] 黑名單: [] Score: 1\n",
      "763 Answer: [] 黑名單: [] Score: 1\n",
      "2621 Answer: [] 黑名單: [] Score: 1\n",
      "889 Answer: [] 黑名單: [] Score: 1\n",
      "3074 Answer: [] 黑名單: [] Score: 1\n",
      "2391 Answer: [] 黑名單: ['洪丞俊', '黃丹怡'] Score: 0\n",
      "625 Answer: [] 黑名單: [] Score: 1\n",
      "3841 Answer: [] 黑名單: [] Score: 1\n",
      "4610 Answer: [] 黑名單: [] Score: 1\n",
      "1660 Answer: [] 黑名單: [] Score: 1\n",
      "780 Answer: [] 黑名單: [] Score: 1\n",
      "2696 Answer: [] 黑名單: [] Score: 1\n",
      "4211 Answer: [] 黑名單: [] Score: 1\n",
      "3235 Answer: [] 黑名單: [] Score: 1\n",
      "3178 Answer: [] 黑名單: [] Score: 1\n",
      "1965 Answer: [] 黑名單: [] Score: 1\n",
      "875 Answer: [] 黑名單: [] Score: 1\n",
      "3224 Answer: [] 黑名單: [] Score: 1\n",
      "2209 Answer: [] 黑名單: [] Score: 1\n",
      "3597 Answer: [] 黑名單: [] Score: 1\n",
      "270 Answer: [] 黑名單: [] Score: 1\n",
      "4591 Answer: [] 黑名單: [] Score: 1\n",
      "684 Answer: [] 黑名單: [] Score: 1\n",
      "4590 Answer: [] 黑名單: [] Score: 1\n",
      "1653 Answer: [] 黑名單: ['林倉平'] Score: 0\n",
      "1652 Answer: [] 黑名單: [] Score: 1\n",
      "2323 Answer: [] 黑名單: [] Score: 1\n",
      "1681 Answer: [] 黑名單: [] Score: 1\n",
      "2386 Answer: [] 黑名單: [] Score: 1\n",
      "3973 Answer: [] 黑名單: [] Score: 1\n",
      "2546 Answer: [] 黑名單: [] Score: 1\n",
      "4506 Answer: [] 黑名單: [] Score: 1\n",
      "1006 Answer: [] 黑名單: [] Score: 1\n",
      "2094 Answer: [] 黑名單: [] Score: 1\n",
      "2733 Answer: [] 黑名單: [] Score: 1\n",
      "3236 Answer: [] 黑名單: [] Score: 1\n",
      "384 Answer: [] 黑名單: [] Score: 1\n",
      "1606 Answer: [] 黑名單: [] Score: 1\n",
      "2746 Answer: [] 黑名單: [] Score: 1\n",
      "366 Answer: [] 黑名單: [] Score: 1\n",
      "2263 Answer: [] 黑名單: [] Score: 1\n",
      "2071 Answer: [] 黑名單: [] Score: 1\n",
      "4656 Answer: [] 黑名單: [] Score: 1\n",
      "4419 Answer: [] 黑名單: [] Score: 1\n",
      "4509 Answer: [] 黑名單: [] Score: 1\n",
      "4661 Answer: [] 黑名單: [] Score: 1\n",
      "2757 Answer: [] 黑名單: [] Score: 1\n",
      "2629 Answer: [] 黑名單: [] Score: 1\n",
      "3293 Answer: [] 黑名單: [] Score: 1\n",
      "950 Answer: [] 黑名單: [] Score: 1\n",
      "2402 Answer: [] 黑名單: [] Score: 1\n",
      "4424 Answer: [] 黑名單: [] Score: 1\n",
      "2219 Answer: [] 黑名單: [] Score: 1\n",
      "2498 Answer: [] 黑名單: [] Score: 1\n",
      "2987 Answer: [] 黑名單: [] Score: 1\n",
      "1750 Answer: [] 黑名單: [] Score: 1\n",
      "1525 Answer: [] 黑名單: [] Score: 1\n",
      "581 Answer: [] 黑名單: [] Score: 1\n",
      "1972 Answer: [] 黑名單: [] Score: 1\n",
      "2 Answer: [] 黑名單: [] Score: 1\n",
      "1415 Answer: [] 黑名單: [] Score: 1\n",
      "2299 Answer: [] 黑名單: [] Score: 1\n",
      "3005 Answer: [] 黑名單: [] Score: 1\n",
      "2944 Answer: [] 黑名單: [] Score: 1\n",
      "3394 Answer: [] 黑名單: [] Score: 1\n",
      "2692 Answer: [] 黑名單: [] Score: 1\n",
      "4120 Answer: [] 黑名單: [] Score: 1\n",
      "3745 Answer: [] 黑名單: [] Score: 1\n",
      "473 Answer: [] 黑名單: [] Score: 1\n",
      "561 Answer: [] 黑名單: [] Score: 1\n",
      "2064 Answer: [] 黑名單: [] Score: 1\n",
      "4429 Answer: [] 黑名單: [] Score: 1\n",
      "357 Answer: [] 黑名單: [] Score: 1\n",
      "867 Answer: [] 黑名單: [] Score: 1\n",
      "2833 Answer: [] 黑名單: [] Score: 1\n",
      "2511 Answer: [] 黑名單: [] Score: 1\n",
      "2078 Answer: [] 黑名單: [] Score: 1\n",
      "4410 Answer: [] 黑名單: [] Score: 1\n",
      "22 Answer: [] 黑名單: [] Score: 1\n",
      "4093 Answer: [] 黑名單: [] Score: 1\n",
      "158 Answer: [] 黑名單: [] Score: 1\n",
      "914 Answer: [] 黑名單: [] Score: 1\n",
      "2067 Answer: [] 黑名單: [] Score: 1\n",
      "835 Answer: [] 黑名單: [] Score: 1\n",
      "1828 Answer: [] 黑名單: [] Score: 1\n",
      "4999 Answer: [] 黑名單: [] Score: 1\n",
      "178 Answer: [] 黑名單: [] Score: 1\n",
      "3574 Answer: [] 黑名單: [] Score: 1\n",
      "4700 Answer: [] 黑名單: [] Score: 1\n",
      "498 Answer: [] 黑名單: [] Score: 1\n",
      "1423 Answer: [] 黑名單: [] Score: 1\n",
      "3706 Answer: [] 黑名單: [] Score: 1\n",
      "4167 Answer: [] 黑名單: [] Score: 1\n",
      "1952 Answer: [] 黑名單: [] Score: 1\n",
      "1205 Answer: [] 黑名單: [] Score: 1\n",
      "828 Answer: [] 黑名單: [] Score: 1\n",
      "2003 Answer: [] 黑名單: [] Score: 1\n",
      "1590 Answer: [] 黑名單: [] Score: 1\n",
      "2924 Answer: [] 黑名單: [] Score: 1\n",
      "3420 Answer: [] 黑名單: [] Score: 1\n",
      "136 Answer: [] 黑名單: [] Score: 1\n",
      "2921 Answer: [] 黑名單: [] Score: 1\n",
      "880 Answer: [] 黑名單: [] Score: 1\n",
      "3868 Answer: [] 黑名單: [] Score: 1\n",
      "1154 Answer: [] 黑名單: [] Score: 1\n",
      "3804 Answer: [] 黑名單: [] Score: 1\n",
      "716 Answer: [] 黑名單: [] Score: 1\n",
      "4501 Answer: [] 黑名單: [] Score: 1\n",
      "1833 Answer: [] 黑名單: [] Score: 1\n",
      "3369 Answer: [] 黑名單: [] Score: 1\n",
      "4865 Answer: [] 黑名單: [] Score: 1\n",
      "413 Answer: [] 黑名單: [] Score: 1\n",
      "2956 Answer: [] 黑名單: [] Score: 1\n",
      "916 Answer: [] 黑名單: [] Score: 1\n",
      "1727 Answer: [] 黑名單: [] Score: 1\n",
      "3028 Answer: [] 黑名單: [] Score: 1\n",
      "3273 Answer: [] 黑名單: [] Score: 1\n",
      "2847 Answer: [] 黑名單: [] Score: 1\n",
      "2051 Answer: [] 黑名單: [] Score: 1\n",
      "1261 Answer: [] 黑名單: [] Score: 1\n",
      "4179 Answer: [] 黑名單: [] Score: 1\n",
      "2877 Answer: [] 黑名單: [] Score: 1\n",
      "233 Answer: [] 黑名單: [] Score: 1\n",
      "2920 Answer: [] 黑名單: [] Score: 1\n",
      "2376 Answer: [] 黑名單: [] Score: 1\n",
      "3541 Answer: [] 黑名單: [] Score: 1\n",
      "1554 Answer: [] 黑名單: [] Score: 1\n",
      "2998 Answer: [] 黑名單: [] Score: 1\n",
      "1323 Answer: [] 黑名單: [] Score: 1\n",
      "2230 Answer: [] 黑名單: [] Score: 1\n",
      "4676 Answer: [] 黑名單: [] Score: 1\n",
      "2811 Answer: [] 黑名單: [] Score: 1\n",
      "206 Answer: [] 黑名單: [] Score: 1\n",
      "4181 Answer: [] 黑名單: [] Score: 1\n",
      "4288 Answer: [] 黑名單: [] Score: 1\n",
      "1512 Answer: [] 黑名單: [] Score: 1\n",
      "4467 Answer: [] 黑名單: [] Score: 1\n",
      "2407 Answer: [] 黑名單: [] Score: 1\n",
      "3075 Answer: [] 黑名單: [] Score: 1\n",
      "4809 Answer: [] 黑名單: [] Score: 1\n",
      "1694 Answer: [] 黑名單: [] Score: 1\n",
      "4182 Answer: [] 黑名單: ['周陳文彬'] Score: 0\n",
      "2289 Answer: [] 黑名單: [] Score: 1\n",
      "1033 Answer: [] 黑名單: [] Score: 1\n",
      "4399 Answer: [] 黑名單: [] Score: 1\n",
      "905 Answer: [] 黑名單: [] Score: 1\n",
      "1974 Answer: [] 黑名單: [] Score: 1\n",
      "477 Answer: [] 黑名單: [] Score: 1\n",
      "2649 Answer: [] 黑名單: [] Score: 1\n",
      "1909 Answer: [] 黑名單: ['繆竹怡'] Score: 0\n",
      "385 Answer: [] 黑名單: [] Score: 1\n",
      "1507 Answer: [] 黑名單: [] Score: 1\n",
      "4479 Answer: [] 黑名單: [] Score: 1\n",
      "3538 Answer: [] 黑名單: [] Score: 1\n",
      "3048 Answer: [] 黑名單: [] Score: 1\n",
      "3927 Answer: [] 黑名單: [] Score: 1\n",
      "3816 Answer: [] 黑名單: [] Score: 1\n",
      "3342 Answer: [] 黑名單: [] Score: 1\n",
      "3291 Answer: [] 黑名單: [] Score: 1\n",
      "1206 Answer: [] 黑名單: [] Score: 1\n",
      "951 Answer: [] 黑名單: [] Score: 1\n",
      "3852 Answer: [] 黑名單: [] Score: 1\n",
      "1820 Answer: [] 黑名單: [] Score: 1\n",
      "547 Answer: [] 黑名單: ['徐洪貴'] Score: 0\n",
      "3243 Answer: [] 黑名單: [] Score: 1\n",
      "1089 Answer: [] 黑名單: [] Score: 1\n",
      "1520 Answer: [] 黑名單: [] Score: 1\n",
      "575 Answer: [] 黑名單: [] Score: 1\n",
      "1787 Answer: [] 黑名單: [] Score: 1\n",
      "4224 Answer: [] 黑名單: [] Score: 1\n",
      "122 Answer: [] 黑名單: [] Score: 1\n",
      "1410 Answer: [] 黑名單: [] Score: 1\n",
      "2550 Answer: [] 黑名單: [] Score: 1\n",
      "3286 Answer: [] 黑名單: [] Score: 1\n",
      "3713 Answer: [] 黑名單: [] Score: 1\n",
      "2247 Answer: [] 黑名單: [] Score: 1\n",
      "2601 Answer: [] 黑名單: [] Score: 1\n",
      "529 Answer: [] 黑名單: [] Score: 1\n",
      "4523 Answer: [] 黑名單: [] Score: 1\n",
      "3408 Answer: [] 黑名單: ['朱傑麟'] Score: 0\n",
      "798 Answer: [] 黑名單: [] Score: 1\n",
      "4687 Answer: [] 黑名單: ['謝淑美'] Score: 0\n",
      "82 Answer: [] 黑名單: [] Score: 1\n",
      "4198 Answer: [] 黑名單: [] Score: 1\n",
      "4586 Answer: [] 黑名單: [] Score: 1\n",
      "3114 Answer: [] 黑名單: [] Score: 1\n",
      "2557 Answer: [] 黑名單: [] Score: 1\n",
      "240 Answer: [] 黑名單: [] Score: 1\n",
      "4494 Answer: [] 黑名單: [] Score: 1\n",
      "3847 Answer: [] 黑名單: [] Score: 1\n",
      "185 Answer: [] 黑名單: [] Score: 1\n",
      "1967 Answer: [] 黑名單: [] Score: 1\n",
      "3141 Answer: [] 黑名單: [] Score: 1\n",
      "3715 Answer: [] 黑名單: [] Score: 1\n",
      "2381 Answer: [] 黑名單: [] Score: 1\n",
      "342 Answer: [] 黑名單: [] Score: 1\n",
      "4497 Answer: [] 黑名單: [] Score: 1\n",
      "2073 Answer: [] 黑名單: [] Score: 1\n",
      "1595 Answer: [] 黑名單: [] Score: 1\n",
      "2594 Answer: [] 黑名單: [] Score: 1\n",
      "833 Answer: [] 黑名單: [] Score: 1\n",
      "792 Answer: [] 黑名單: [] Score: 1\n",
      "884 Answer: [] 黑名單: [] Score: 1\n",
      "2760 Answer: [] 黑名單: [] Score: 1\n",
      "3506 Answer: [] 黑名單: [] Score: 1\n",
      "3198 Answer: [] 黑名單: [] Score: 1\n",
      "3052 Answer: [] 黑名單: [] Score: 1\n",
      "2214 Answer: [] 黑名單: [] Score: 1\n",
      "919 Answer: [] 黑名單: [] Score: 1\n",
      "304 Answer: [] 黑名單: [] Score: 1\n",
      "2350 Answer: [] 黑名單: [] Score: 1\n",
      "1813 Answer: [] 黑名單: [] Score: 1\n",
      "4035 Answer: [] 黑名單: [] Score: 1\n",
      "4422 Answer: [] 黑名單: ['劉永祥'] Score: 0\n",
      "4459 Answer: [] 黑名單: [] Score: 1\n",
      "954 Answer: [] 黑名單: [] Score: 1\n",
      "2262 Answer: [] 黑名單: [] Score: 1\n",
      "2876 Answer: [] 黑名單: [] Score: 1\n",
      "1288 Answer: [] 黑名單: [] Score: 1\n",
      "4493 Answer: [] 黑名單: [] Score: 1\n",
      "4041 Answer: [] 黑名單: [] Score: 1\n",
      "3763 Answer: [] 黑名單: [] Score: 1\n",
      "662 Answer: [] 黑名單: [] Score: 1\n",
      "1461 Answer: [] 黑名單: [] Score: 1\n",
      "4171 Answer: [] 黑名單: [] Score: 1\n",
      "3125 Answer: [] 黑名單: [] Score: 1\n",
      "1411 Answer: [] 黑名單: [] Score: 1\n",
      "8 Answer: [] 黑名單: [] Score: 1\n",
      "1345 Answer: [] 黑名單: [] Score: 1\n",
      "1570 Answer: [] 黑名單: [] Score: 1\n",
      "1697 Answer: [] 黑名單: ['潘富民', '陳長明', '施金樹'] Score: 0\n",
      "2469 Answer: [] 黑名單: [] Score: 1\n",
      "3525 Answer: [] 黑名單: [] Score: 1\n",
      "1141 Answer: [] 黑名單: [] Score: 1\n",
      "2830 Answer: [] 黑名單: [] Score: 1\n",
      "982 Answer: [] 黑名單: [] Score: 1\n",
      "4464 Answer: [] 黑名單: [] Score: 1\n",
      "4643 Answer: [] 黑名單: [] Score: 1\n",
      "2798 Answer: [] 黑名單: [] Score: 1\n",
      "1998 Answer: [] 黑名單: [] Score: 1\n",
      "4471 Answer: [] 黑名單: ['邱浩成'] Score: 0\n",
      "2377 Answer: [] 黑名單: [] Score: 1\n",
      "3716 Answer: [] 黑名單: [] Score: 1\n",
      "4269 Answer: [] 黑名單: [] Score: 1\n",
      "16 Answer: [] 黑名單: [] Score: 1\n",
      "214 Answer: [] 黑名單: [] Score: 1\n",
      "3507 Answer: [] 黑名單: [] Score: 1\n",
      "1344 Answer: [] 黑名單: [] Score: 1\n",
      "1027 Answer: [] 黑名單: [] Score: 1\n",
      "3197 Answer: [] 黑名單: [] Score: 1\n",
      "3631 Answer: [] 黑名單: [] Score: 1\n",
      "4816 Answer: [] 黑名單: [] Score: 1\n",
      "3858 Answer: [] 黑名單: [] Score: 1\n",
      "303 Answer: [] 黑名單: [] Score: 1\n",
      "2802 Answer: [] 黑名單: [] Score: 1\n",
      "4956 Answer: [] 黑名單: [] Score: 1\n",
      "997 Answer: [] 黑名單: [] Score: 1\n",
      "941 Answer: [] 黑名單: [] Score: 1\n",
      "891 Answer: [] 黑名單: [] Score: 1\n",
      "4369 Answer: [] 黑名單: [] Score: 1\n",
      "4811 Answer: [] 黑名單: [] Score: 1\n",
      "594 Answer: [] 黑名單: [] Score: 1\n",
      "1354 Answer: [] 黑名單: [] Score: 1\n",
      "343 Answer: [] 黑名單: [] Score: 1\n",
      "3545 Answer: [] 黑名單: [] Score: 1\n",
      "89 Answer: [] 黑名單: [] Score: 1\n",
      "3104 Answer: [] 黑名單: ['曾煥彰', '林其瑞'] Score: 0\n",
      "2234 Answer: [] 黑名單: [] Score: 1\n",
      "2767 Answer: [] 黑名單: [] Score: 1\n",
      "1484 Answer: [] 黑名單: [] Score: 1\n",
      "4011 Answer: [] 黑名單: [] Score: 1\n",
      "4343 Answer: [] 黑名單: [] Score: 1\n",
      "2365 Answer: [] 黑名單: [] Score: 1\n",
      "1760 Answer: [] 黑名單: [] Score: 1\n",
      "4711 Answer: [] 黑名單: [] Score: 1\n",
      "4736 Answer: [] 黑名單: [] Score: 1\n",
      "1013 Answer: [] 黑名單: [] Score: 1\n",
      "4535 Answer: [] 黑名單: [] Score: 1\n",
      "3123 Answer: [] 黑名單: [] Score: 1\n",
      "1956 Answer: [] 黑名單: [] Score: 1\n",
      "2211 Answer: [] 黑名單: [] Score: 1\n",
      "1105 Answer: [] 黑名單: [] Score: 1\n",
      "4487 Answer: [] 黑名單: [] Score: 1\n",
      "4482 Answer: [] 黑名單: [] Score: 1\n",
      "566 Answer: [] 黑名單: [] Score: 1\n",
      "369 Answer: ['啟'] 黑名單: [] Score: 0\n",
      "746 Answer: [] 黑名單: [] Score: 1\n",
      "4389 Answer: [] 黑名單: [] Score: 1\n",
      "2006 Answer: [] 黑名單: [] Score: 1\n",
      "4781 Answer: [] 黑名單: ['洪勝明'] Score: 0\n",
      "4383 Answer: [] 黑名單: [] Score: 1\n",
      "1247 Answer: [] 黑名單: [] Score: 1\n",
      "3539 Answer: [] 黑名單: [] Score: 1\n",
      "443 Answer: [] 黑名單: [] Score: 1\n",
      "2722 Answer: [] 黑名單: [] Score: 1\n",
      "1222 Answer: [] 黑名單: [] Score: 1\n",
      "1919 Answer: [] 黑名單: [] Score: 1\n",
      "3167 Answer: [] 黑名單: [] Score: 1\n",
      "733 Answer: [] 黑名單: [] Score: 1\n",
      "4070 Answer: [] 黑名單: [] Score: 1\n",
      "235 Answer: [] 黑名單: [] Score: 1\n",
      "2903 Answer: [] 黑名單: [] Score: 1\n",
      "160 Answer: [] 黑名單: [] Score: 1\n",
      "3691 Answer: [] 黑名單: ['洪定緯', '馬怡如', '簡以珍', '林玉雀', '潘信興', '陳勇志'] Score: 0\n",
      "1273 Answer: [] 黑名單: [] Score: 1\n",
      "3598 Answer: [] 黑名單: [] Score: 1\n",
      "869 Answer: [] 黑名單: [] Score: 1\n",
      "4127 Answer: [] 黑名單: [] Score: 1\n",
      "1350 Answer: [] 黑名單: [] Score: 1\n",
      "1503 Answer: [] 黑名單: [] Score: 1\n",
      "4485 Answer: [] 黑名單: [] Score: 1\n",
      "362 Answer: [] 黑名單: [] Score: 1\n",
      "13 Answer: [] 黑名單: [] Score: 1\n",
      "4169 Answer: [] 黑名單: [] Score: 1\n",
      "1427 Answer: [] 黑名單: [] Score: 1\n",
      "621 Answer: [] 黑名單: [] Score: 1\n",
      "1931 Answer: [] 黑名單: [] Score: 1\n",
      "761 Answer: [] 黑名單: [] Score: 1\n",
      "2721 Answer: [] 黑名單: [] Score: 1\n",
      "431\n",
      "0.9389978213507625\n"
     ]
    }
   ],
   "source": [
    "total_score = 0\n",
    "\n",
    "for ID in answer:\n",
    "    blacklist = answer_json_type[ID]['blacklist']\n",
    "    \n",
    "    total_score+=score(answer[ID], blacklist)\n",
    "    \n",
    "    print(ID, 'Answer:',answer[ID], \n",
    "          '黑名單:', answer_json_type[ID]['blacklist'],\n",
    "#           'Names:', answer_json_type[ID]['names'],\n",
    "          'Score:', score(answer[ID], blacklist)\n",
    "         )\n",
    "\n",
    "print(total_score)\n",
    "print(total_score/len(answer))"
   ]
  },
  {
   "cell_type": "code",
   "execution_count": null,
   "metadata": {},
   "outputs": [],
   "source": []
  }
 ],
 "metadata": {
  "kernelspec": {
   "display_name": "Python 3",
   "language": "python",
   "name": "python3"
  },
  "language_info": {
   "codemirror_mode": {
    "name": "ipython",
    "version": 3
   },
   "file_extension": ".py",
   "mimetype": "text/x-python",
   "name": "python",
   "nbconvert_exporter": "python",
   "pygments_lexer": "ipython3",
   "version": "3.7.6"
  }
 },
 "nbformat": 4,
 "nbformat_minor": 4
}
